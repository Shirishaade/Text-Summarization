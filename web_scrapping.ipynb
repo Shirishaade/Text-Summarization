{
 "cells": [
  {
   "cell_type": "code",
   "execution_count": 1,
   "metadata": {},
   "outputs": [],
   "source": [
    "import selenium\n",
    "from selenium import webdriver\n",
    "import time\n",
    "from selenium.webdriver.common.by import By\n",
    "from selenium.webdriver.chrome.options import Options\n",
    "import re\n",
    "import string\n",
    "from selenium.webdriver.support.ui import WebDriverWait\n",
    "from selenium.webdriver.support import expected_conditions as EC\n",
    "from selenium.webdriver.common.action_chains import ActionChains\n",
    "from selenium.common.exceptions import NoSuchElementException\n",
    "from selenium.webdriver.chrome.service import Service"
   ]
  },
  {
   "cell_type": "code",
   "execution_count": 2,
   "metadata": {},
   "outputs": [],
   "source": [
    "def check_exists_by_xpath(xpath):\n",
    "    try:\n",
    "        driver.find_element(by=By.XPATH, value = xpath)\n",
    "    except NoSuchElementException:\n",
    "        return False\n",
    "    return True\n",
    "\n",
    "def check_exists_by_tagname(tagname):\n",
    "    try:\n",
    "        driver.find_element(by=By.TAG_NAME, value = tagname)\n",
    "    except NoSuchElementException:\n",
    "        return False\n",
    "    return True"
   ]
  },
  {
   "cell_type": "code",
   "execution_count": 5,
   "metadata": {},
   "outputs": [],
   "source": [
    "url = \"https://open.spotify.com/\""
   ]
  },
  {
   "cell_type": "code",
   "execution_count": 6,
   "metadata": {},
   "outputs": [
    {
     "name": "stdout",
     "output_type": "stream",
     "text": [
      "PREVIEW OF SPOTIFY Sign up to get unlimited songs and podcasts with occasional ads. No credit card needed. We andour partners use cookies to personalize your experience, to show you ads based on your interests, and for measurement and analytics purposes. By using our website and services, you agree to our use of cookies as described in ourCookie Policy.\n",
      "\n",
      "\n"
     ]
    }
   ],
   "source": [
    "c = webdriver.ChromeOptions()\n",
    "c.add_argument(\"--incognito\")\n",
    "driver = webdriver.Chrome(options = c, service=Service(\"/Users/rohankumar/Downloads/chromedriver\"))\n",
    "driver.get(url)\n",
    "driver.maximize_window()\n",
    "time.sleep(2)\n",
    "\n",
    "# if check_exists_by_xpath(\"//p\"):\n",
    "#     para = driver.find_elements(by=By.XPATH, value = \"//p\")\n",
    "\n",
    "if check_exists_by_tagname('h1'):\n",
    "    heading = driver.find_element(by = By.TAG_NAME, value = 'h1')\n",
    "    print(heading.text)\n",
    "\n",
    "if check_exists_by_tagname('p'):\n",
    "    para = driver.find_elements(by=By.TAG_NAME, value='p')\n",
    "\n",
    "    line = []\n",
    "    for result in para:\n",
    "        line.append(result.text)\n",
    "    ARTICLE = ' '.join(line)\n",
    "    text1 =re.sub(r'\\[[0-9]*\\]',' ',ARTICLE)\n",
    "    text1 =re.sub(r'\\s+',' ',text1)\n",
    "\n",
    "else:\n",
    "    text1 = \"check article for more info\"\n",
    "# print(text1)\n",
    "# print('\\n')\n",
    "\n",
    "\n",
    "from sum import summarize\n",
    "summary = summarize(text1)\n",
    "print(summary)\n",
    "print('\\n')\n",
    "\n",
    "\n",
    "\n",
    "\n",
    "driver.close()"
   ]
  },
  {
   "cell_type": "code",
   "execution_count": null,
   "metadata": {},
   "outputs": [],
   "source": []
  }
 ],
 "metadata": {
  "kernelspec": {
   "display_name": "Python 3 (ipykernel)",
   "language": "python",
   "name": "python3"
  },
  "language_info": {
   "codemirror_mode": {
    "name": "ipython",
    "version": 3
   },
   "file_extension": ".py",
   "mimetype": "text/x-python",
   "name": "python",
   "nbconvert_exporter": "python",
   "pygments_lexer": "ipython3",
   "version": "3.9.12"
  },
  "vscode": {
   "interpreter": {
    "hash": "aee8b7b246df8f9039afb4144a1f6fd8d2ca17a180786b69acc140d282b71a49"
   }
  }
 },
 "nbformat": 4,
 "nbformat_minor": 2
}
