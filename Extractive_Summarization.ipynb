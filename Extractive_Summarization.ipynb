{
 "cells": [
  {
   "cell_type": "code",
   "execution_count": 1,
   "metadata": {},
   "outputs": [],
   "source": [
    "import numpy as np\n",
    "import pandas as pd\n",
    "from nltk.corpus import stopwords\n",
    "from nltk.tokenize import word_tokenize, sent_tokenize\n",
    "import re\n",
    "from sklearn.metrics import pairwise_distances\n",
    "from scipy.spatial.distance import cosine\n",
    "from numpy.linalg import svd\n",
    "import networkx as nx\n",
    "from rouge import Rouge"
   ]
  },
  {
   "cell_type": "code",
   "execution_count": 2,
   "metadata": {},
   "outputs": [
    {
     "data": {
      "text/plain": [
       "\"The Ghaziabad municipal corporation plans to create 20 'mini forests' across the city by the end of this year in a bid to improve the greenery and forest cover, said officials on Wednesday. Officials added that four other plantation sites which were developed as a pilot project have shown a plant survival rate of about 95%. The corporation took up the four sites at Sai Upwan (city forest near GT Road where it planted 2,100 trees), Pratap Vihar (5,000 trees), UP Gate (5,000 trees) and Dayanand Park in Kavi Nagar industrial area (about 25,000 trees). The plantation drive at these four sites was initiated in 2021 as part of urban forestry and to spruce up the green cover. “Overall, the sites have shown a high plant survival rate of about 95% and one of the sites at Sai Upwan has almost 100% survival rate due to its proximity to the Hindon river. The plantation drive at these sites was taken up under the 'Miyawaki' method (planting two to four trees per square metre area). Further, we have planned to create 20 more such sites by the end of this year,” said Mahendra Singh Tanwar, Ghaziabad municipal commissioner. The 20 proposed sites include a major legacy-waste cleared area at Siddharth Vihar where there is a proposal to plant 50,000 trees. A similar activity of about 30,000 trees has been planned at Shakti Khand legacy-waste cleared site in Indirapuram, while 10 other sites include industrial areas where a total of 50,000 trees each will be planted, said officials. According to the 'state of forest' report released by Dehradun-based Forest Survey of India (FSI) earlier in January, Ghaziabad district has a total of 1,179sqkm of geographical area while only 25.22sqm (2.14%) is under forest cover. The report said that there has been no change in the status of forest cover in the district since the previous assessment taken up by FSI in the year 2019. In fact, the forest cover recorded in Ghaziabad in 2019 witnessed a decline of -0.78% compared to 2017. According to the FSI report, the forest cover includes all lands measuring over one hectare in area with tree canopy density of more than 10%. The forest cover recorded in the report does not make any distinction between the origins of tree crops (whether manmade or natural) or tree species, and encompasses all kinds of lands, irrespective of their ownership, land use or legal status. “The issue of declining forest cover is due to major infrastructure projects which have been taken up. Further, compensatory afforestation which should be taken up in the district has been done elsewhere. So, there is a decline in green cover here,” said Akash Vashishtha, a Ghaziabad-based environmentalist and a lawyer. “The step taken up by the corporation is appreciable but there is always a problem with land availability in Ghaziabad city. The civic body already has two major city forests of over 100 acres each at Karhera and Sai Upwan. These should be completely developed as dense forests instead of turning them into recreational sites. Such a move is vital because Ghaziabad is polluted,” Vashishtha added. Officials of the divisional forest department said that the city this year has been given a target of planting 10.5 lakh trees during the monsoon season. “We will start with the plantation drive as soon as the monsoon hits the region. Our plantation drives have a survival rate of about 90% and if the corporation has achieved a rate of 95%, it is appreciable and can be termed as high survival rate,” said PK Srivastava, officiating divisional forest officer.\""
      ]
     },
     "execution_count": 2,
     "metadata": {},
     "output_type": "execute_result"
    }
   ],
   "source": [
    "file=open('ext_file.txt', 'r')\n",
    "text = file.read()\n",
    "text"
   ]
  },
  {
   "cell_type": "code",
   "execution_count": 3,
   "metadata": {},
   "outputs": [
    {
     "data": {
      "text/plain": [
       "[\"The Ghaziabad municipal corporation is planning to create 20 'mini-forests' across the city by the end of this year to improve the greenery and forest cover, officials said. Officials added that four other plantation sites which were developed as a pilot project, showed a plant survival rate of about 95%. The plantation drive at these sites was initiated in 2021.\"]"
      ]
     },
     "execution_count": 3,
     "metadata": {},
     "output_type": "execute_result"
    }
   ],
   "source": [
    "reference = [\"\"\"The Ghaziabad municipal corporation is planning to create 20 'mini-forests' across the city by the end of this year to improve the greenery and forest cover, officials said. Officials added that four other plantation sites which were developed as a pilot project, showed a plant survival rate of about 95%. The plantation drive at these sites was initiated in 2021.\"\"\"]\n",
    "reference"
   ]
  },
  {
   "cell_type": "code",
   "execution_count": 4,
   "metadata": {},
   "outputs": [
    {
     "data": {
      "text/plain": [
       "[\"The Ghaziabad municipal corporation plans to create 20 'mini forests' across the city by the end of this year in a bid to improve the greenery and forest cover, said officials on Wednesday.\",\n",
       " 'Officials added that four other plantation sites which were developed as a pilot project have shown a plant survival rate of about 95%.',\n",
       " 'The corporation took up the four sites at Sai Upwan (city forest near GT Road where it planted 2,100 trees), Pratap Vihar (5,000 trees), UP Gate (5,000 trees) and Dayanand Park in Kavi Nagar industrial area (about 25,000 trees).',\n",
       " 'The plantation drive at these four sites was initiated in 2021 as part of urban forestry and to spruce up the green cover.',\n",
       " '“Overall, the sites have shown a high plant survival rate of about 95% and one of the sites at Sai Upwan has almost 100% survival rate due to its proximity to the Hindon river.',\n",
       " \"The plantation drive at these sites was taken up under the 'Miyawaki' method (planting two to four trees per square metre area).\",\n",
       " 'Further, we have planned to create 20 more such sites by the end of this year,” said Mahendra Singh Tanwar, Ghaziabad municipal commissioner.',\n",
       " 'The 20 proposed sites include a major legacy-waste cleared area at Siddharth Vihar where there is a proposal to plant 50,000 trees.',\n",
       " 'A similar activity of about 30,000 trees has been planned at Shakti Khand legacy-waste cleared site in Indirapuram, while 10 other sites include industrial areas where a total of 50,000 trees each will be planted, said officials.',\n",
       " \"According to the 'state of forest' report released by Dehradun-based Forest Survey of India (FSI) earlier in January, Ghaziabad district has a total of 1,179sqkm of geographical area while only 25.22sqm (2.14%) is under forest cover.\",\n",
       " 'The report said that there has been no change in the status of forest cover in the district since the previous assessment taken up by FSI in the year 2019.',\n",
       " 'In fact, the forest cover recorded in Ghaziabad in 2019 witnessed a decline of -0.78% compared to 2017.',\n",
       " 'According to the FSI report, the forest cover includes all lands measuring over one hectare in area with tree canopy density of more than 10%.',\n",
       " 'The forest cover recorded in the report does not make any distinction between the origins of tree crops (whether manmade or natural) or tree species, and encompasses all kinds of lands, irrespective of their ownership, land use or legal status.',\n",
       " '“The issue of declining forest cover is due to major infrastructure projects which have been taken up.',\n",
       " 'Further, compensatory afforestation which should be taken up in the district has been done elsewhere.',\n",
       " 'So, there is a decline in green cover here,” said Akash Vashishtha, a Ghaziabad-based environmentalist and a lawyer.',\n",
       " '“The step taken up by the corporation is appreciable but there is always a problem with land availability in Ghaziabad city.',\n",
       " 'The civic body already has two major city forests of over 100 acres each at Karhera and Sai Upwan.',\n",
       " 'These should be completely developed as dense forests instead of turning them into recreational sites.',\n",
       " 'Such a move is vital because Ghaziabad is polluted,” Vashishtha added.',\n",
       " 'Officials of the divisional forest department said that the city this year has been given a target of planting 10.5 lakh trees during the monsoon season.',\n",
       " '“We will start with the plantation drive as soon as the monsoon hits the region.',\n",
       " 'Our plantation drives have a survival rate of about 90% and if the corporation has achieved a rate of 95%, it is appreciable and can be termed as high survival rate,” said PK Srivastava, officiating divisional forest officer.']"
      ]
     },
     "execution_count": 4,
     "metadata": {},
     "output_type": "execute_result"
    }
   ],
   "source": [
    "sentences = sent_tokenize(text)\n",
    "sentences"
   ]
  },
  {
   "cell_type": "code",
   "execution_count": 5,
   "metadata": {},
   "outputs": [
    {
     "data": {
      "text/plain": [
       "[33,\n",
       " 23,\n",
       " 39,\n",
       " 23,\n",
       " 34,\n",
       " 22,\n",
       " 23,\n",
       " 22,\n",
       " 37,\n",
       " 36,\n",
       " 30,\n",
       " 18,\n",
       " 25,\n",
       " 40,\n",
       " 17,\n",
       " 15,\n",
       " 18,\n",
       " 21,\n",
       " 19,\n",
       " 15,\n",
       " 11,\n",
       " 26,\n",
       " 15,\n",
       " 38]"
      ]
     },
     "execution_count": 5,
     "metadata": {},
     "output_type": "execute_result"
    }
   ],
   "source": [
    "leng = []\n",
    "for sen in sentences:\n",
    "    leng.append(len(sen.split()))\n",
    "leng"
   ]
  },
  {
   "cell_type": "code",
   "execution_count": 6,
   "metadata": {},
   "outputs": [],
   "source": [
    "n = int(input('number of words needed in summary'))\n",
    "if n < max(leng):\n",
    "    n = max(leng)"
   ]
  },
  {
   "cell_type": "code",
   "execution_count": 7,
   "metadata": {},
   "outputs": [],
   "source": [
    "def remove_sw(text):\n",
    "    text1 = text.lower()\n",
    "    text1 = re.sub('[^a-zA-Z]', ' ' , text1)\n",
    "    text_tokens = word_tokenize(text1)\n",
    "    tokens_without_sw = [word for word in text_tokens if not word in stopwords.words()]\n",
    "    \n",
    "    for word in tokens_without_sw:\n",
    "        if word in text.lower():\n",
    "            continue\n",
    "        else:\n",
    "            tokens_without_sw.remove(word)\n",
    "\n",
    "    return tokens_without_sw"
   ]
  },
  {
   "cell_type": "code",
   "execution_count": 8,
   "metadata": {},
   "outputs": [],
   "source": [
    "def word_freq(tokens_without_sw):\n",
    "    freq = {}\n",
    "    for word in tokens_without_sw:\n",
    "        if word in freq:\n",
    "            freq[word] += 1\n",
    "        else:\n",
    "            freq[word] = 1\n",
    "    return freq"
   ]
  },
  {
   "cell_type": "code",
   "execution_count": 9,
   "metadata": {},
   "outputs": [],
   "source": [
    "def sentence_rank(sentences_list, freq_dict):\n",
    "    rank = {}\n",
    "    for s in sentences_list:\n",
    "        for word, fre in freq_dict.items():\n",
    "            if word in s.lower():\n",
    "                if s in rank:\n",
    "                    rank[s] += fre\n",
    "                else:\n",
    "                    rank[s] = fre\n",
    "    return rank"
   ]
  },
  {
   "cell_type": "code",
   "execution_count": 10,
   "metadata": {},
   "outputs": [],
   "source": [
    "def sentence_vector(sentences,vocabulary):\n",
    "    sens_vec = []\n",
    "    for s in sentences:\n",
    "        sen_vec = []\n",
    "        for word in vocabulary:\n",
    "            if word in s.lower():\n",
    "                #sp = s.lower().split()\n",
    "                #r = sp.count(word)\n",
    "                sen_vec.append(1)\n",
    "            else:\n",
    "                sen_vec.append(0)\n",
    "        sens_vec.append(sen_vec)\n",
    "    return sens_vec"
   ]
  },
  {
   "cell_type": "markdown",
   "metadata": {},
   "source": [
    "### Frequency Method"
   ]
  },
  {
   "cell_type": "code",
   "execution_count": 11,
   "metadata": {},
   "outputs": [],
   "source": [
    "def frequency_method(text, sentences, n):\n",
    "    tokens_without_sw = remove_sw(text)\n",
    "    freq=word_freq(tokens_without_sw)\n",
    "    rank = sentence_rank(sentences, freq)\n",
    "    \n",
    "    l = sorted(rank, key=rank.get, reverse = True)\n",
    "    \n",
    "    summary = ''\n",
    "    w=0\n",
    "    u=len(l[0].split())\n",
    "    while u <= n:\n",
    "        summary += \" \" + l[w]\n",
    "        w += 1\n",
    "        u += len(l[w].split())\n",
    "    return summary"
   ]
  },
  {
   "cell_type": "markdown",
   "metadata": {},
   "source": [
    "### Text Rank Method"
   ]
  },
  {
   "cell_type": "code",
   "execution_count": 12,
   "metadata": {},
   "outputs": [],
   "source": [
    "def text_rank_method(text, sentences, n):\n",
    "    tokens_without_sw = remove_sw(text)\n",
    "    vocabulary = sorted(tokens_without_sw)\n",
    "    sens_vec = sentence_vector(sentences,vocabulary)\n",
    "\n",
    "    m = np.array(sens_vec)\n",
    "    dis = 1-pairwise_distances(m, metric=\"cosine\") \n",
    "\n",
    "    sen_similarity_graph = nx.from_numpy_array(dis)\n",
    "    score = nx.pagerank(sen_similarity_graph)\n",
    "    score = score.values()\n",
    "\n",
    "    similarity = dict(zip(sentences, score))\n",
    "\n",
    "    l = sorted(similarity, key=similarity.get, reverse = True)\n",
    "\n",
    "    summary = ''\n",
    "    w=0\n",
    "    u=len(l[0].split())\n",
    "    while u <= n:\n",
    "        summary += \" \" + l[w]\n",
    "        w += 1\n",
    "        u += len(l[w].split())\n",
    "    return summary"
   ]
  },
  {
   "cell_type": "markdown",
   "metadata": {},
   "source": [
    "### TF-IDF Method"
   ]
  },
  {
   "cell_type": "code",
   "execution_count": 13,
   "metadata": {},
   "outputs": [],
   "source": [
    "def tf_idf_method(text, sentences, n):\n",
    "    tokens_without_sw = remove_sw(text)\n",
    "    freq=word_freq(tokens_without_sw)\n",
    "    total_words = sum(freq.values())\n",
    "\n",
    "    tf = {}\n",
    "    for word in freq.keys():\n",
    "        tf[word] = freq[word]/total_words\n",
    "\n",
    "    num_sen = {}\n",
    "    idf = {}\n",
    "    for word in freq.keys():\n",
    "        num = 0\n",
    "        for s in sentences:\n",
    "            if word in s.lower():\n",
    "                num += 1\n",
    "        num_sen[word] = num\n",
    "        idf[word] = np.log(len(sentences)/num)\n",
    "\n",
    "    score = {}\n",
    "    for word in freq.keys():\n",
    "        score[word] = tf[word]*idf[word]\n",
    "\n",
    "    rank = sentence_rank(sentences, score)\n",
    "\n",
    "    l = sorted(rank, key=rank.get, reverse = True)\n",
    "        \n",
    "    summary = ''\n",
    "    w=0\n",
    "    u=len(l[0].split())\n",
    "    while u <= n:\n",
    "        summary += \" \" + l[w]\n",
    "        w += 1\n",
    "        u += len(l[w].split())\n",
    "    return summary"
   ]
  },
  {
   "cell_type": "markdown",
   "metadata": {},
   "source": [
    "### TF-IDF Method without removing stop words"
   ]
  },
  {
   "cell_type": "code",
   "execution_count": 14,
   "metadata": {},
   "outputs": [],
   "source": [
    "def tf_idf_method_wsw(text, sentences, n):\n",
    "\n",
    "    text1 = text.lower()\n",
    "    text1 = re.sub('[^a-zA-Z]', ' ' , text1)\n",
    "    text_tokens = word_tokenize(text1)\n",
    "    \n",
    "    for word in text_tokens:\n",
    "        if word in text.lower():\n",
    "            continue\n",
    "        else:\n",
    "            text_tokens.remove(word)\n",
    "\n",
    "    tokens_with_sw = text_tokens\n",
    "    \n",
    "    freq=word_freq(tokens_with_sw)\n",
    "    total_words = sum(freq.values())\n",
    "\n",
    "    tf = {}\n",
    "    for word in freq.keys():\n",
    "        tf[word] = freq[word]/total_words\n",
    "\n",
    "    num_sen = {}\n",
    "    idf = {}\n",
    "    for word in freq.keys():\n",
    "        num = 0\n",
    "        for s in sentences:\n",
    "            if word in s.lower():\n",
    "                num += 1\n",
    "        num_sen[word] = num\n",
    "        idf[word] = np.log(len(sentences)/num)\n",
    "\n",
    "    score = {}\n",
    "    for word in freq.keys():\n",
    "        score[word] = tf[word]*idf[word]\n",
    "\n",
    "    rank = sentence_rank(sentences, score)\n",
    "\n",
    "    l = sorted(rank, key=rank.get, reverse = True)\n",
    "        \n",
    "    summary = ''\n",
    "    w=0\n",
    "    u=len(l[0].split())\n",
    "    while u <= n:\n",
    "        summary += \" \" + l[w]\n",
    "        w += 1\n",
    "        u += len(l[w].split())\n",
    "    return summary"
   ]
  },
  {
   "cell_type": "markdown",
   "metadata": {},
   "source": [
    "### Low dimensional reduction Method"
   ]
  },
  {
   "cell_type": "code",
   "execution_count": 15,
   "metadata": {},
   "outputs": [],
   "source": [
    "def low_dim_red(text, sentences, n):\n",
    "    tokens_without_sw = remove_sw(text)\n",
    "    vocabulary = sorted(tokens_without_sw)\n",
    "    sens_vec = sentence_vector(sentences,vocabulary)\n",
    "    m = np.array(sens_vec)\n",
    "\n",
    "    U,S,VT = svd(np.transpose(m))\n",
    "    k=VT\n",
    "\n",
    "    dis = 1-pairwise_distances(k, metric=\"cosine\") \n",
    "    \n",
    "    sen_similarity_graph = nx.from_numpy_array(dis)\n",
    "    score = nx.pagerank(sen_similarity_graph)\n",
    "    score = score.values()\n",
    "    \n",
    "    similarity = dict(zip(sentences, score))\n",
    "\n",
    "    l = sorted(similarity, key=similarity.get, reverse = True)\n",
    "\n",
    "    summary = ''\n",
    "    w=0\n",
    "    u=len(l[0].split())\n",
    "    while u <= n:\n",
    "        summary += \" \" + l[w]\n",
    "        w += 1\n",
    "        u += len(l[w].split())\n",
    "    return summary"
   ]
  },
  {
   "cell_type": "markdown",
   "metadata": {},
   "source": [
    "### Word rank Method (significant words are chosen with similarity check and then ranked sentences accordingly)"
   ]
  },
  {
   "cell_type": "code",
   "execution_count": 16,
   "metadata": {},
   "outputs": [],
   "source": [
    "def word_rank_method(text, sentences, n):\n",
    "    tokens_without_sw = remove_sw(text)\n",
    "    vocabulary = sorted(tokens_without_sw)\n",
    "    sens_vec = sentence_vector(sentences,vocabulary)\n",
    "\n",
    "    m = np.transpose(np.array(sens_vec))\n",
    "    dis = 1-pairwise_distances(m, metric=\"cosine\") \n",
    "    \n",
    "    word_similarity_graph = nx.from_numpy_array(dis)\n",
    "    score = nx.pagerank(word_similarity_graph)\n",
    "    score = score.values()\n",
    "    \n",
    "    similarity = dict(zip(vocabulary, score))\n",
    "\n",
    "    rank = sentence_rank(sentences, similarity)\n",
    "\n",
    "    l = sorted(rank, key=rank.get, reverse = True)\n",
    "\n",
    "    summary = ''\n",
    "    w=0\n",
    "    u=len(l[0].split())\n",
    "    while u <= n:\n",
    "        summary += \" \" + l[w]\n",
    "        w += 1\n",
    "        u += len(l[w].split())\n",
    "    return summary"
   ]
  },
  {
   "cell_type": "markdown",
   "metadata": {},
   "source": [
    "### Comparison"
   ]
  },
  {
   "cell_type": "code",
   "execution_count": 17,
   "metadata": {},
   "outputs": [],
   "source": [
    "def methods(text, sentences, n):\n",
    "    sum = {}\n",
    "    sum['tfidf'] = tf_idf_method(text, sentences, n)\n",
    "    sum['frequency'] = frequency_method(text, sentences, n)\n",
    "    sum['testrank'] = text_rank_method(text, sentences, n)\n",
    "    sum['tfidfwsw'] = tf_idf_method_wsw(text, sentences, n)\n",
    "    sum['lowdim'] = low_dim_red(text, sentences, n)\n",
    "    sum['wordrank'] = word_rank_method(text, sentences, n)\n",
    "    return sum"
   ]
  },
  {
   "cell_type": "code",
   "execution_count": 18,
   "metadata": {},
   "outputs": [],
   "source": [
    "def evaluation(reference, model_out):\n",
    "    rouge = Rouge()\n",
    "    m=rouge.get_scores(model_out, reference, avg=True)\n",
    "    return m\n"
   ]
  },
  {
   "cell_type": "code",
   "execution_count": 19,
   "metadata": {},
   "outputs": [
    {
     "data": {
      "text/plain": [
       "{'tfidf': ' The corporation took up the four sites at Sai Upwan (city forest near GT Road where it planted 2,100 trees), Pratap Vihar (5,000 trees), UP Gate (5,000 trees) and Dayanand Park in Kavi Nagar industrial area (about 25,000 trees).',\n",
       " 'frequency': ' The corporation took up the four sites at Sai Upwan (city forest near GT Road where it planted 2,100 trees), Pratap Vihar (5,000 trees), UP Gate (5,000 trees) and Dayanand Park in Kavi Nagar industrial area (about 25,000 trees).',\n",
       " 'testrank': \" The plantation drive at these four sites was initiated in 2021 as part of urban forestry and to spruce up the green cover. The Ghaziabad municipal corporation plans to create 20 'mini forests' across the city by the end of this year in a bid to improve the greenery and forest cover, said officials on Wednesday.\",\n",
       " 'tfidfwsw': ' A similar activity of about 30,000 trees has been planned at Shakti Khand legacy-waste cleared site in Indirapuram, while 10 other sites include industrial areas where a total of 50,000 trees each will be planted, said officials.',\n",
       " 'lowdim': \" According to the 'state of forest' report released by Dehradun-based Forest Survey of India (FSI) earlier in January, Ghaziabad district has a total of 1,179sqkm of geographical area while only 25.22sqm (2.14%) is under forest cover.\",\n",
       " 'wordrank': ' The corporation took up the four sites at Sai Upwan (city forest near GT Road where it planted 2,100 trees), Pratap Vihar (5,000 trees), UP Gate (5,000 trees) and Dayanand Park in Kavi Nagar industrial area (about 25,000 trees).'}"
      ]
     },
     "execution_count": 19,
     "metadata": {},
     "output_type": "execute_result"
    }
   ],
   "source": [
    "k = methods(text, sentences, n)\n",
    "k"
   ]
  },
  {
   "cell_type": "code",
   "execution_count": 20,
   "metadata": {},
   "outputs": [],
   "source": [
    "rog_score = {}\n",
    "for i in range(len(k)):\n",
    "    model_out = [list(k.values())[i]]\n",
    "    rog_score[list(k.keys())[i]] = evaluation(reference, model_out)"
   ]
  },
  {
   "cell_type": "code",
   "execution_count": 21,
   "metadata": {},
   "outputs": [
    {
     "name": "stdout",
     "output_type": "stream",
     "text": [
      "{'tfidf': {'rouge-1': {'r': 0.17307692307692307, 'p': 0.25, 'f': 0.20454544971074393}, 'rouge-2': {'r': 0.0, 'p': 0.0, 'f': 0.0}, 'rouge-l': {'r': 0.1346153846153846, 'p': 0.19444444444444445, 'f': 0.1590909042561985}}, 'frequency': {'rouge-1': {'r': 0.17307692307692307, 'p': 0.25, 'f': 0.20454544971074393}, 'rouge-2': {'r': 0.0, 'p': 0.0, 'f': 0.0}, 'rouge-l': {'r': 0.1346153846153846, 'p': 0.19444444444444445, 'f': 0.1590909042561985}}, 'testrank': {'rouge-1': {'r': 0.6538461538461539, 'p': 0.723404255319149, 'f': 0.6868686818814408}, 'rouge-2': {'r': 0.4576271186440678, 'p': 0.4909090909090909, 'f': 0.4736842055324716}, 'rouge-l': {'r': 0.5961538461538461, 'p': 0.6595744680851063, 'f': 0.6262626212753801}}, 'tfidfwsw': {'rouge-1': {'r': 0.17307692307692307, 'p': 0.2571428571428571, 'f': 0.20689654691504833}, 'rouge-2': {'r': 0.01694915254237288, 'p': 0.027777777777777776, 'f': 0.021052626872023215}, 'rouge-l': {'r': 0.1346153846153846, 'p': 0.2, 'f': 0.16091953542079548}}, 'lowdim': {'rouge-1': {'r': 0.17307692307692307, 'p': 0.2571428571428571, 'f': 0.20689654691504833}, 'rouge-2': {'r': 0.0, 'p': 0.0, 'f': 0.0}, 'rouge-l': {'r': 0.15384615384615385, 'p': 0.22857142857142856, 'f': 0.18390804116792192}}, 'wordrank': {'rouge-1': {'r': 0.17307692307692307, 'p': 0.25, 'f': 0.20454544971074393}, 'rouge-2': {'r': 0.0, 'p': 0.0, 'f': 0.0}, 'rouge-l': {'r': 0.1346153846153846, 'p': 0.19444444444444445, 'f': 0.1590909042561985}}}\n"
     ]
    }
   ],
   "source": [
    "print(rog_score)"
   ]
  }
 ],
 "metadata": {
  "interpreter": {
   "hash": "aee8b7b246df8f9039afb4144a1f6fd8d2ca17a180786b69acc140d282b71a49"
  },
  "kernelspec": {
   "display_name": "Python 3 (ipykernel)",
   "language": "python",
   "name": "python3"
  },
  "language_info": {
   "codemirror_mode": {
    "name": "ipython",
    "version": 3
   },
   "file_extension": ".py",
   "mimetype": "text/x-python",
   "name": "python",
   "nbconvert_exporter": "python",
   "pygments_lexer": "ipython3",
   "version": "3.9.12"
  }
 },
 "nbformat": 4,
 "nbformat_minor": 2
}
